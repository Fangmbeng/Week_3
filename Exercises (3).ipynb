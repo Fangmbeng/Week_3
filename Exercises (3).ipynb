{
 "cells": [
  {
   "cell_type": "markdown",
   "metadata": {},
   "source": [
    "#### Exercise 1 - Class Inheritance"
   ]
  },
  {
   "cell_type": "markdown",
   "metadata": {},
   "source": [
    "Create an Employee class that sets an employee's first name, last name, job title, salary, and email. The Employee class should have a class attribute for the raise amount set to 5% (1.05). Create a method that will apply the raise to an employee's salary."
   ]
  },
  {
   "cell_type": "code",
   "execution_count": 29,
   "metadata": {},
   "outputs": [
    {
     "name": "stdout",
     "output_type": "stream",
     "text": [
      "name :Brandon Atonte \n",
      "job title: Software Engineer \n",
      "salary : 120000 \n",
      "\n",
      "Congrats name :Brandon Atonte \n",
      "job title: Software Engineer \n",
      "salary : 126000.0 \n",
      ". You have received a raise and your new salary is $126000.0\n"
     ]
    }
   ],
   "source": [
    "class employee:\n",
    "    increase = 1.05\n",
    "\n",
    "    def __init__(self, first_name, last_name, job_title, salary):\n",
    "        self.first = first_name\n",
    "        self.last = last_name\n",
    "        self.job = job_title\n",
    "        self.salary = salary\n",
    "        self.email = first_name.lower() + '.' + last_name.lower() + '@company.org'\n",
    "\n",
    "    def __str__(self):\n",
    "        return f'name :{self.first} {self.last} \\n' f'job title: {self.job} \\n'f'salary : {self.salary} \\n'\n",
    "\n",
    "    def salary_raise(self):\n",
    "        self.salary *= self.increase\n",
    "        print(f\"Congrats {self.__str__()}. You have received a raise and your new salary is ${self.salary}\")\n",
    "\n",
    "\n",
    "employee1 = employee(\"Brandon\", \"Atonte\", \"Software Engineer\", 120000)\n",
    "\n",
    "print(employee1)\n",
    "employee1.salary_raise()"
   ]
  },
  {
   "cell_type": "markdown",
   "metadata": {},
   "source": [
    "Create two more classes that inherit from the Employee class. One for Sales and one for Development. Both of these classes will have the same attributes as the Employee.<br>\n",
    "- For the Sales employees, add a phone number attribute on instantiation using the super method. \n",
    "- Create a method on the Sales class that will Send a Follow Up Email. It should take in a customer name and \"send\" aka print a formatted email \"Dear *customer*, Thank you for your interest in our product. Please let me know if you have any questions. My email is *email* or my phone number is *phone number*. Thanks, *full name*\"\n",
    "- Create a method on the Development class called code that will print out \"*full name* is writing code\"."
   ]
  },
  {
   "cell_type": "code",
   "execution_count": 61,
   "metadata": {},
   "outputs": [
    {
     "name": "stdout",
     "output_type": "stream",
     "text": [
      "Dear customer,Thank you for your interest in our product. Please let me know \n",
      " if you have any questions. My email is brandon.atonte@company.org or my phone number is 3948500.\n",
      " Thanks, Brandon Atonte\n",
      "Brandon Atonte is writing code\n"
     ]
    }
   ],
   "source": [
    "class sales_employee:\n",
    "    \n",
    "    def __init__(self, first_name, last_name, job_title, salary, phone_number, customer):\n",
    "        self.first = first_name\n",
    "        self.last = last_name\n",
    "        self.job = job_title\n",
    "        self.salary = salary\n",
    "        self.email = first_name.lower() + '.' + last_name.lower() + '@company.org'\n",
    "        self.full_name = self.first + \" \" + self.last\n",
    "        self.phone_number = phone_number\n",
    "        self.customer = customer\n",
    "\n",
    "    def __str__(self):\n",
    "        return f\"Dear {self.customer},Thank you for your interest in our product. Please let me know \\n if you have any questions. My email is {self.email} or my phone number is {self.phone_number}.\\n Thanks, {self.full_name}\"\n",
    "\n",
    "emp_1 = sales_employee(\"Brandon\", \"Atonte\", \"software Engineer\", 50000, 3948500, \"customer\")\n",
    "print(emp_1)\n",
    "\n",
    "\n",
    "\n",
    "class development_employee:\n",
    "    \n",
    "    def __init__(self, first_name, last_name, job_title, salary):\n",
    "        self.first = first_name\n",
    "        self.last = last_name\n",
    "        self.job = job_title\n",
    "        self.salary = salary\n",
    "        self.email = first_name.lower() + '.' + last_name.lower() + '@company.org'\n",
    "        self.full_name = self.first + \" \" + self.last\n",
    "    \n",
    "    def __str__(self):\n",
    "        return f\"{self.full_name} is writing code\"\n",
    "\n",
    "dev = development_employee(\"Brandon\", \"Atonte\", \"Development Engineer\", 100000)\n",
    "print(dev)"
   ]
  },
  {
   "cell_type": "markdown",
   "metadata": {},
   "source": [
    "- Create an instance of a Sales Employee with a salary of $50,000.\n",
    "- Send follow up emails to \"Mike O'Neil\" and \"Hannah Stern\"\n",
    "- Give the employee a raise and print the salary"
   ]
  },
  {
   "cell_type": "code",
   "execution_count": 55,
   "metadata": {},
   "outputs": [
    {
     "data": {
      "text/plain": [
       "'Congrats BrandonAtonte. Your salary is $120000'"
      ]
     },
     "execution_count": 55,
     "metadata": {},
     "output_type": "execute_result"
    }
   ],
   "source": [
    "def salary(emp_instance):\n",
    "    return f\"Congrats {emp_instance.full_name}. Your salary is ${emp_instance.salary}\"\n",
    "\n",
    "salary(emp_1)"
   ]
  },
  {
   "cell_type": "markdown",
   "metadata": {},
   "source": [
    "- Create an instance of a Development Employee with a salary of $100,000\n",
    "- Write some code with this employee (aka call the code method)\n",
    "- Give the employee a raise and print the salary"
   ]
  },
  {
   "cell_type": "code",
   "execution_count": 60,
   "metadata": {},
   "outputs": [
    {
     "data": {
      "text/plain": [
       "'Congrats Brandon Atonte. Your salary is $120000'"
      ]
     },
     "execution_count": 60,
     "metadata": {},
     "output_type": "execute_result"
    }
   ],
   "source": [
    "def dev_employee(employee_instance):\n",
    "    return f\"Congrats {employee_instance.full_name}. Your salary is ${employee_instance.salary}\"\n",
    "\n",
    "dev_employee(dev)"
   ]
  },
  {
   "cell_type": "markdown",
   "metadata": {},
   "source": [
    "#### Exercise 2 - Importing Modules"
   ]
  },
  {
   "cell_type": "markdown",
   "metadata": {},
   "source": [
    "In VS Code, create a module titled `geometry` and add two functions in there. One that will calculate the area of a circle given a radius. The second will find the hypotenuse of a right angle given the two sides. Import the module or the functions from the module and use it to find the answers to the below questions"
   ]
  },
  {
   "cell_type": "code",
   "execution_count": 52,
   "metadata": {},
   "outputs": [],
   "source": [
    "class geometry:\n",
    "\n",
    "    def area_circle(self, radius):\n",
    "        self.radius = radius\n",
    "        self.area = (self.radius ** 2) * (22/7)\n",
    "        print(f\"{self.area} cm.square\")\n",
    "\n",
    "    def hypotenuse(self, base, height):\n",
    "        self.base = base\n",
    "        self.height = height\n",
    "        self.hypo_square = ((self.base**2) + (self.height**2))**0.5\n",
    "        print(f\"{self.hypo_square} cm\")\n",
    "\n",
    "triangle = geometry()\n",
    "circle = geometry()"
   ]
  },
  {
   "cell_type": "markdown",
   "metadata": {},
   "source": [
    "What is the area of a circle with a radius of 7cm?"
   ]
  },
  {
   "cell_type": "code",
   "execution_count": 53,
   "metadata": {},
   "outputs": [
    {
     "name": "stdout",
     "output_type": "stream",
     "text": [
      "154.0 cm.square\n"
     ]
    }
   ],
   "source": [
    "class geometry:\n",
    "\n",
    "    def area_circle(self, radius):\n",
    "        self.radius = radius\n",
    "        self.area = (self.radius ** 2) * (22/7)\n",
    "        print(f\"{self.area} cm.square\")\n",
    "\n",
    "circle = geometry()\n",
    "circle.area_circle(7)"
   ]
  },
  {
   "cell_type": "markdown",
   "metadata": {},
   "source": [
    "What is the hypotenuse of a right angle with sides of 3in and 4in?"
   ]
  },
  {
   "cell_type": "code",
   "execution_count": 54,
   "metadata": {},
   "outputs": [
    {
     "name": "stdout",
     "output_type": "stream",
     "text": [
      "5.0 in\n"
     ]
    }
   ],
   "source": [
    "class geometry:\n",
    "    def hypotenuse(self, base, height):\n",
    "        self.base = base\n",
    "        self.height = height\n",
    "        self.hypo_square = ((self.base**2) + (self.height**2))**0.5\n",
    "        print(f\"{self.hypo_square} in\")\n",
    "\n",
    "triangle = geometry()\n",
    "triangle.hypotenuse(3, 4)"
   ]
  }
 ],
 "metadata": {
  "kernelspec": {
   "display_name": "Python 3",
   "language": "python",
   "name": "python3"
  },
  "language_info": {
   "codemirror_mode": {
    "name": "ipython",
    "version": 3
   },
   "file_extension": ".py",
   "mimetype": "text/x-python",
   "name": "python",
   "nbconvert_exporter": "python",
   "pygments_lexer": "ipython3",
   "version": "3.9.1 (tags/v3.9.1:1e5d33e, Dec  7 2020, 17:08:21) [MSC v.1927 64 bit (AMD64)]"
  },
  "vscode": {
   "interpreter": {
    "hash": "ffc532ed8a784cdfb8a39261f01be3d3895cee2e2b54e8698a7318bacbcb2147"
   }
  }
 },
 "nbformat": 4,
 "nbformat_minor": 4
}
